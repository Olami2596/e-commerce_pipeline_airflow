{
 "cells": [
  {
   "cell_type": "code",
   "execution_count": 1,
   "id": "4259c3f3",
   "metadata": {},
   "outputs": [],
   "source": [
    "import pandas as pd\n",
    "from datetime import datetime, timedelta\n",
    "import random"
   ]
  },
  {
   "cell_type": "code",
   "execution_count": 2,
   "metadata": {},
   "outputs": [],
   "source": [
    "# Generate Orders\n",
    "orders = pd.DataFrame({\n",
    "    'order_id': [f'O{i}' for i in range(1, 201)], \n",
    "    'customer_id': [f'C{random.randint(1, 20)}' for _ in range(200)],\n",
    "    'order_date': pd.date_range(start='2025-01-01', periods=200, freq='D')\n",
    "})\n",
    "orders.to_csv('orders.csv', index=False)"
   ]
  },
  {
   "cell_type": "code",
   "execution_count": 3,
   "id": "82fabb88",
   "metadata": {},
   "outputs": [],
   "source": [
    "# Generate Customers\n",
    "customer_names = [\n",
    "    \"Alice\", \"Bob\", \"Charlie\", \"David\", \"Eva\",\n",
    "    \"Frank\", \"Grace\", \"Hannah\", \"Ian\", \"Julia\",\n",
    "    \"Kevin\", \"Laura\", \"Michael\", \"Nina\", \"Oscar\",\n",
    "    \"Paula\", \"Quinn\", \"Rachel\", \"Sam\", \"Tina\"\n",
    "]\n",
    "\n",
    "customers = pd.DataFrame({\n",
    "    'customer_id': [f'C{i}' for i in range(1, 21)],\n",
    "    'name': customer_names,\n",
    "    'email': [f\"{name.lower()}@example.com\" for name in customer_names]\n",
    "})\n",
    "customers.to_csv('customers.csv', index=False)"
   ]
  },
  {
   "cell_type": "code",
   "execution_count": 4,
   "id": "5cd0d37a",
   "metadata": {},
   "outputs": [],
   "source": [
    "# Generate Shipments\n",
    "statuses = ['shipped', 'delivered']\n",
    "shipments = pd.DataFrame({\n",
    "    'shipment_id': [f'S{i}' for i in range(1, 201)],\n",
    "    'order_id': orders['order_id'],\n",
    "    'status': [random.choice(statuses) for _ in range(200)],\n",
    "    'shipped_at': pd.date_range(start='2025-01-02', periods=200, freq='D'),\n",
    "    'delivered_at': pd.date_range(start='2025-01-03', periods=200, freq='D')\n",
    "})\n",
    "shipments.to_csv('shipments.csv', index=False)"
   ]
  }
 ],
 "metadata": {
  "kernelspec": {
   "display_name": "new_env",
   "language": "python",
   "name": "python3"
  },
  "language_info": {
   "codemirror_mode": {
    "name": "ipython",
    "version": 3
   },
   "file_extension": ".py",
   "mimetype": "text/x-python",
   "name": "python",
   "nbconvert_exporter": "python",
   "pygments_lexer": "ipython3",
   "version": "3.12.4"
  }
 },
 "nbformat": 4,
 "nbformat_minor": 5
}
